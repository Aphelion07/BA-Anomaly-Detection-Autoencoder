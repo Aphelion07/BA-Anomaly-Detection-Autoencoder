{
 "cells": [
  {
   "cell_type": "code",
   "execution_count": 6,
   "id": "b9296b3f-25b1-4e0d-adcf-cbe7d8557a1a",
   "metadata": {},
   "outputs": [
    {
     "name": "stdout",
     "output_type": "stream",
     "text": [
      "Fehler beim Laden der Datei: Die Datei Scenario A1-ARFF\\TimeBasedFeatures-Dataset-15s-VPN.arff wurde nicht gefunden.\n"
     ]
    },
    {
     "ename": "FileNotFoundError",
     "evalue": "Die Datei Scenario A1-ARFF\\TimeBasedFeatures-Dataset-15s-VPN.arff wurde nicht gefunden.",
     "output_type": "error",
     "traceback": [
      "\u001b[1;31m---------------------------------------------------------------------------\u001b[0m",
      "\u001b[1;31mFileNotFoundError\u001b[0m                         Traceback (most recent call last)",
      "Cell \u001b[1;32mIn[6], line 28\u001b[0m\n\u001b[0;32m     25\u001b[0m filepath \u001b[38;5;241m=\u001b[39m \u001b[38;5;124mr\u001b[39m\u001b[38;5;124m'\u001b[39m\u001b[38;5;124mScenario A1-ARFF\u001b[39m\u001b[38;5;124m\\\u001b[39m\u001b[38;5;124mTimeBasedFeatures-Dataset-15s-VPN.arff\u001b[39m\u001b[38;5;124m'\u001b[39m\n\u001b[0;32m     27\u001b[0m \u001b[38;5;28;01mtry\u001b[39;00m:\n\u001b[1;32m---> 28\u001b[0m     df \u001b[38;5;241m=\u001b[39m \u001b[43mload_data\u001b[49m\u001b[43m(\u001b[49m\u001b[43mfilepath\u001b[49m\u001b[43m)\u001b[49m\n\u001b[0;32m     29\u001b[0m \u001b[38;5;28;01mexcept\u001b[39;00m \u001b[38;5;167;01mException\u001b[39;00m \u001b[38;5;28;01mas\u001b[39;00m e:\n\u001b[0;32m     30\u001b[0m     \u001b[38;5;28mprint\u001b[39m(\u001b[38;5;124mf\u001b[39m\u001b[38;5;124m\"\u001b[39m\u001b[38;5;124mFehler beim Laden der Datei: \u001b[39m\u001b[38;5;132;01m{\u001b[39;00me\u001b[38;5;132;01m}\u001b[39;00m\u001b[38;5;124m\"\u001b[39m)\n",
      "Cell \u001b[1;32mIn[6], line 14\u001b[0m, in \u001b[0;36mload_data\u001b[1;34m(filepath)\u001b[0m\n\u001b[0;32m     12\u001b[0m \u001b[38;5;28;01mdef\u001b[39;00m\u001b[38;5;250m \u001b[39m\u001b[38;5;21mload_data\u001b[39m(filepath):\n\u001b[0;32m     13\u001b[0m     \u001b[38;5;28;01mif\u001b[39;00m \u001b[38;5;129;01mnot\u001b[39;00m os\u001b[38;5;241m.\u001b[39mpath\u001b[38;5;241m.\u001b[39mexists(filepath):\n\u001b[1;32m---> 14\u001b[0m         \u001b[38;5;28;01mraise\u001b[39;00m \u001b[38;5;167;01mFileNotFoundError\u001b[39;00m(\u001b[38;5;124mf\u001b[39m\u001b[38;5;124m\"\u001b[39m\u001b[38;5;124mDie Datei \u001b[39m\u001b[38;5;132;01m{\u001b[39;00mfilepath\u001b[38;5;132;01m}\u001b[39;00m\u001b[38;5;124m wurde nicht gefunden.\u001b[39m\u001b[38;5;124m\"\u001b[39m)\n\u001b[0;32m     16\u001b[0m     raw_data, meta \u001b[38;5;241m=\u001b[39m arff\u001b[38;5;241m.\u001b[39mloadarff(filepath)\n\u001b[0;32m     17\u001b[0m     df \u001b[38;5;241m=\u001b[39m pd\u001b[38;5;241m.\u001b[39mDataFrame(raw_data)\n",
      "\u001b[1;31mFileNotFoundError\u001b[0m: Die Datei Scenario A1-ARFF\\TimeBasedFeatures-Dataset-15s-VPN.arff wurde nicht gefunden."
     ]
    }
   ],
   "source": [
    "import numpy as np\n",
    "import pandas as pd\n",
    "from sklearn.preprocessing import StandardScaler\n",
    "from sklearn.metrics import confusion_matrix, classification_report\n",
    "from scipy.io import arff\n",
    "from sklearn.model_selection import train_test_split\n",
    "from sklearn.ensemble import IsolationForest\n",
    "from sklearn.svm import OneClassSVM\n",
    "from sklearn.pipeline import Pipeline\n",
    "import os\n",
    "\n",
    "def load_data(filepath):\n",
    "    if not os.path.exists(filepath):\n",
    "        raise FileNotFoundError(f\"Die Datei {filepath} wurde nicht gefunden.\")\n",
    "    \n",
    "    raw_data, meta = arff.loadarff(filepath)\n",
    "    df = pd.DataFrame(raw_data)\n",
    "    df.replace([b'', ''], np.nan, inplace=True)\n",
    "    for col in df.select_dtypes([object]):\n",
    "        df[col] = df[col].apply(lambda x: x.decode('utf-8') if isinstance(x, bytes) else x)\n",
    "    df['class1'] = df['class1'].astype(str)\n",
    "    return df\n",
    "\n",
    "# Datensatzpfad\n",
    "filepath = r'Scenario A1-ARFF\\TimeBasedFeatures-Dataset-15s-VPN.arff'\n",
    "\n",
    "try:\n",
    "    df = load_data(filepath)\n",
    "except Exception as e:\n",
    "    print(f\"Fehler beim Laden der Datei: {e}\")\n",
    "    raise\n",
    "\n",
    "# Feature-Auswahl\n",
    "selected_features = [\n",
    "    'duration', 'total_fiat', 'total_biat', 'min_fiat', 'max_fiat',\n",
    "    'min_flowiat', 'max_flowiat', 'mean_flowiat', 'std_flowiat',\n",
    "    'mean_active', 'mean_idle', 'std_active', 'std_idle',\n",
    "    'flowBytesPerSecond', 'flowPktsPerSecond'\n",
    "]\n",
    "df_selected = df[selected_features]\n",
    "labels = df['class1']\n",
    "\n",
    "# Fehlende Werte auffüllen\n",
    "df_selected = df_selected.fillna(df_selected.median())\n",
    "\n",
    "# Daten skalieren und Pipeline erstellen\n",
    "pipeline = Pipeline([\n",
    "    ('scaler', StandardScaler())\n",
    "])\n",
    "df_scaled = pd.DataFrame(pipeline.fit_transform(df_selected), columns=selected_features)\n",
    "\n",
    "# Train-Test-Split\n",
    "X_train, X_test, y_train, y_test = train_test_split(\n",
    "    df_scaled, labels, test_size=0.2, random_state=42, stratify=labels\n",
    ")\n",
    "y_train_np = np.array(y_train)\n",
    "y_test_np = np.array(y_test)\n",
    "\n",
    "# Isolation Forest\n",
    "print(\"\\n Training Isolation Forest...\")\n",
    "iso_forest = IsolationForest(n_estimators=100, contamination=0.5, random_state=42)\n",
    "iso_forest.fit(X_train)\n",
    "y_pred_iso = iso_forest.predict(X_test)\n",
    "y_pred_iso = np.where(y_pred_iso == 1, 0, 1)  # 1 = Anomalie (VPN), 0 = Normal (Non-VPN)\n",
    "y_true = np.where(y_test_np == \"VPN\", 1, 0)\n",
    "\n",
    "print(\"\\n Ergebnisse für Isolation Forest:\")\n",
    "print(\"CONFUSION MATRIX:\\n\", confusion_matrix(y_true, y_pred_iso))\n",
    "print(\"CLASSIFICATION REPORT:\\n\", classification_report(y_true, y_pred_iso, target_names=[\"Non-VPN\", \"VPN\"]))\n",
    "\n",
    "# One-Class SVM\n",
    "print(\"\\n Training One-Class SVM...\")\n",
    "one_class_svm = OneClassSVM(nu=0.1, kernel=\"rbf\", gamma=\"scale\")\n",
    "one_class_svm.fit(X_train)\n",
    "y_pred_svm = one_class_svm.predict(X_test)\n",
    "y_pred_svm = np.where(y_pred_svm == 1, 0, 1) \n",
    "\n",
    "print(\"\\n Ergebnisse für One-Class SVM:\")\n",
    "print(\"CONFUSION MATRIX:\\n\", confusion_matrix(y_true, y_pred_svm))\n",
    "print(\"CLASSIFICATION REPORT:\\n\", classification_report(y_true, y_pred_svm, target_names=[\"Non-VPN\", \"VPN\"]))\n"
   ]
  },
  {
   "cell_type": "code",
   "execution_count": null,
   "id": "bce76409-48b6-489c-9690-b6a9e490a10c",
   "metadata": {},
   "outputs": [],
   "source": []
  }
 ],
 "metadata": {
  "kernelspec": {
   "display_name": "Python (tf_gpu)",
   "language": "python",
   "name": "tf_gpu"
  },
  "language_info": {
   "codemirror_mode": {
    "name": "ipython",
    "version": 3
   },
   "file_extension": ".py",
   "mimetype": "text/x-python",
   "name": "python",
   "nbconvert_exporter": "python",
   "pygments_lexer": "ipython3",
   "version": "3.10.16"
  }
 },
 "nbformat": 4,
 "nbformat_minor": 5
}
