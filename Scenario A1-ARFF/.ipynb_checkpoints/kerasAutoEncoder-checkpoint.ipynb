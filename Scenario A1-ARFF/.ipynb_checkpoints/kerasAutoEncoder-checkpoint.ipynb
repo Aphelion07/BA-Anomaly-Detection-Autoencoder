{
 "cells": [
  {
   "cell_type": "code",
   "execution_count": null,
   "id": "1b050907-278c-42c1-b94c-a61c4d053a7d",
   "metadata": {},
   "outputs": [],
   "source": [
    "csv_path = r\"C:\\Users\\berkb\\Desktop\\Uni\\Bachelor\\Projekt\\Scenario A1-ARFF\\Scenario A1-ARFF\\NAB\\artificialWithAnomaly\\artificialWithAnomaly\\art_increase_spike_density.csv\"\n",
    "json_path = r\"C:\\Users\\berkb\\Desktop\\Uni\\Bachelor\\Projekt\\Scenario A1-ARFF\\Scenario A1-ARFF\\NAB\\artificialWithAnomaly\\artificialWithAnomaly\\combined_windows.json\"\n",
    "model_path = r\"C:\\Users\\berkb\\Desktop\\Uni\\Bachelor\\Projekt\\Scenario A1-ARFF\\Scenario A1-ARFF\\KerasAE\"\n"
   ]
  },
  {
   "cell_type": "code",
   "execution_count": 17,
   "id": "cd209fbc-d84b-45a9-8f26-e9edba1ac6ac",
   "metadata": {},
   "outputs": [
    {
     "name": "stdout",
     "output_type": "stream",
     "text": [
      "WARNING:tensorflow:No training configuration found in save file, so the model was *not* compiled. Compile it manually.\n",
      "X_seq shape: (3744, 1, 288, 1, 1)\n"
     ]
    },
    {
     "ename": "ValueError",
     "evalue": "in user code:\n\n    File \"C:\\Users\\berkb\\anaconda3\\envs\\tf_gpu\\lib\\site-packages\\keras\\engine\\training.py\", line 2041, in predict_function  *\n        return step_function(self, iterator)\n    File \"C:\\Users\\berkb\\anaconda3\\envs\\tf_gpu\\lib\\site-packages\\keras\\engine\\training.py\", line 2027, in step_function  **\n        outputs = model.distribute_strategy.run(run_step, args=(data,))\n    File \"C:\\Users\\berkb\\anaconda3\\envs\\tf_gpu\\lib\\site-packages\\keras\\engine\\training.py\", line 2015, in run_step  **\n        outputs = model.predict_step(data)\n    File \"C:\\Users\\berkb\\anaconda3\\envs\\tf_gpu\\lib\\site-packages\\keras\\engine\\training.py\", line 1983, in predict_step\n        return self(x, training=False)\n    File \"C:\\Users\\berkb\\anaconda3\\envs\\tf_gpu\\lib\\site-packages\\keras\\utils\\traceback_utils.py\", line 70, in error_handler\n        raise e.with_traceback(filtered_tb) from None\n    File \"C:\\Users\\berkb\\anaconda3\\envs\\tf_gpu\\lib\\site-packages\\keras\\engine\\input_spec.py\", line 295, in assert_input_compatibility\n        raise ValueError(\n\n    ValueError: Input 0 of layer \"sequential\" is incompatible with the layer: expected shape=(None, 288, 1), found shape=(32, 1, 288, 1, 1)\n",
     "output_type": "error",
     "traceback": [
      "\u001b[1;31m---------------------------------------------------------------------------\u001b[0m",
      "\u001b[1;31mValueError\u001b[0m                                Traceback (most recent call last)",
      "Cell \u001b[1;32mIn[17], line 37\u001b[0m\n\u001b[0;32m     34\u001b[0m \u001b[38;5;28mprint\u001b[39m(\u001b[38;5;124mf\u001b[39m\u001b[38;5;124m\"\u001b[39m\u001b[38;5;124mX_seq shape: \u001b[39m\u001b[38;5;132;01m{\u001b[39;00mX_seq\u001b[38;5;241m.\u001b[39mshape\u001b[38;5;132;01m}\u001b[39;00m\u001b[38;5;124m\"\u001b[39m)\n\u001b[0;32m     36\u001b[0m \u001b[38;5;66;03m# === 5. Vorhersage + Rekonstruktionsfehler berechnen ===\u001b[39;00m\n\u001b[1;32m---> 37\u001b[0m pred \u001b[38;5;241m=\u001b[39m \u001b[43mmodel\u001b[49m\u001b[38;5;241;43m.\u001b[39;49m\u001b[43mpredict\u001b[49m\u001b[43m(\u001b[49m\u001b[43mX_seq\u001b[49m\u001b[43m)\u001b[49m\n\u001b[0;32m     38\u001b[0m mse \u001b[38;5;241m=\u001b[39m np\u001b[38;5;241m.\u001b[39mmean((X_seq\u001b[38;5;241m.\u001b[39msqueeze() \u001b[38;5;241m-\u001b[39m pred\u001b[38;5;241m.\u001b[39msqueeze())\u001b[38;5;241m*\u001b[39m\u001b[38;5;241m*\u001b[39m\u001b[38;5;241m2\u001b[39m, axis\u001b[38;5;241m=\u001b[39m(\u001b[38;5;241m1\u001b[39m, \u001b[38;5;241m2\u001b[39m))\n\u001b[0;32m     40\u001b[0m \u001b[38;5;66;03m# === 6. Threshold bestimmen (95. Perzentil) ===\u001b[39;00m\n",
      "File \u001b[1;32m~\\anaconda3\\envs\\tf_gpu\\lib\\site-packages\\keras\\utils\\traceback_utils.py:70\u001b[0m, in \u001b[0;36mfilter_traceback.<locals>.error_handler\u001b[1;34m(*args, **kwargs)\u001b[0m\n\u001b[0;32m     67\u001b[0m     filtered_tb \u001b[38;5;241m=\u001b[39m _process_traceback_frames(e\u001b[38;5;241m.\u001b[39m__traceback__)\n\u001b[0;32m     68\u001b[0m     \u001b[38;5;66;03m# To get the full stack trace, call:\u001b[39;00m\n\u001b[0;32m     69\u001b[0m     \u001b[38;5;66;03m# `tf.debugging.disable_traceback_filtering()`\u001b[39;00m\n\u001b[1;32m---> 70\u001b[0m     \u001b[38;5;28;01mraise\u001b[39;00m e\u001b[38;5;241m.\u001b[39mwith_traceback(filtered_tb) \u001b[38;5;28;01mfrom\u001b[39;00m\u001b[38;5;250m \u001b[39m\u001b[38;5;28;01mNone\u001b[39;00m\n\u001b[0;32m     71\u001b[0m \u001b[38;5;28;01mfinally\u001b[39;00m:\n\u001b[0;32m     72\u001b[0m     \u001b[38;5;28;01mdel\u001b[39;00m filtered_tb\n",
      "File \u001b[1;32m~\\AppData\\Local\\Temp\\__autograph_generated_filey1wbgcrj.py:15\u001b[0m, in \u001b[0;36mouter_factory.<locals>.inner_factory.<locals>.tf__predict_function\u001b[1;34m(iterator)\u001b[0m\n\u001b[0;32m     13\u001b[0m \u001b[38;5;28;01mtry\u001b[39;00m:\n\u001b[0;32m     14\u001b[0m     do_return \u001b[38;5;241m=\u001b[39m \u001b[38;5;28;01mTrue\u001b[39;00m\n\u001b[1;32m---> 15\u001b[0m     retval_ \u001b[38;5;241m=\u001b[39m ag__\u001b[38;5;241m.\u001b[39mconverted_call(ag__\u001b[38;5;241m.\u001b[39mld(step_function), (ag__\u001b[38;5;241m.\u001b[39mld(\u001b[38;5;28mself\u001b[39m), ag__\u001b[38;5;241m.\u001b[39mld(iterator)), \u001b[38;5;28;01mNone\u001b[39;00m, fscope)\n\u001b[0;32m     16\u001b[0m \u001b[38;5;28;01mexcept\u001b[39;00m:\n\u001b[0;32m     17\u001b[0m     do_return \u001b[38;5;241m=\u001b[39m \u001b[38;5;28;01mFalse\u001b[39;00m\n",
      "\u001b[1;31mValueError\u001b[0m: in user code:\n\n    File \"C:\\Users\\berkb\\anaconda3\\envs\\tf_gpu\\lib\\site-packages\\keras\\engine\\training.py\", line 2041, in predict_function  *\n        return step_function(self, iterator)\n    File \"C:\\Users\\berkb\\anaconda3\\envs\\tf_gpu\\lib\\site-packages\\keras\\engine\\training.py\", line 2027, in step_function  **\n        outputs = model.distribute_strategy.run(run_step, args=(data,))\n    File \"C:\\Users\\berkb\\anaconda3\\envs\\tf_gpu\\lib\\site-packages\\keras\\engine\\training.py\", line 2015, in run_step  **\n        outputs = model.predict_step(data)\n    File \"C:\\Users\\berkb\\anaconda3\\envs\\tf_gpu\\lib\\site-packages\\keras\\engine\\training.py\", line 1983, in predict_step\n        return self(x, training=False)\n    File \"C:\\Users\\berkb\\anaconda3\\envs\\tf_gpu\\lib\\site-packages\\keras\\utils\\traceback_utils.py\", line 70, in error_handler\n        raise e.with_traceback(filtered_tb) from None\n    File \"C:\\Users\\berkb\\anaconda3\\envs\\tf_gpu\\lib\\site-packages\\keras\\engine\\input_spec.py\", line 295, in assert_input_compatibility\n        raise ValueError(\n\n    ValueError: Input 0 of layer \"sequential\" is incompatible with the layer: expected shape=(None, 288, 1), found shape=(32, 1, 288, 1, 1)\n"
     ]
    }
   ],
   "source": [
    "import os\n",
    "import json\n",
    "import numpy as np\n",
    "import pandas as pd\n",
    "import matplotlib.pyplot as plt\n",
    "from sklearn.metrics import classification_report, confusion_matrix\n",
    "import tensorflow as tf\n",
    "from tensorflow import keras\n",
    "\n",
    "# === 1. Pfade ===\n",
    "csv_path = r\"C:\\Users\\berkb\\Desktop\\Uni\\Bachelor\\Projekt\\Scenario A1-ARFF\\Scenario A1-ARFF\\NAB\\artificialWithAnomaly\\artificialWithAnomaly\\art_increase_spike_density.csv\"\n",
    "json_path = r\"C:\\Users\\berkb\\Desktop\\Uni\\Bachelor\\Projekt\\Scenario A1-ARFF\\Scenario A1-ARFF\\NAB\\artificialWithAnomaly\\artificialWithAnomaly\\combined_windows.json\"\n",
    "model_path = r\"C:\\Users\\berkb\\Desktop\\Uni\\Bachelor\\Projekt\\Scenario A1-ARFF\\Scenario A1-ARFF\\KerasAE\"\n",
    "\n",
    "# === 2. Modell laden ===\n",
    "model = keras.models.load_model(model_path)\n",
    "\n",
    "# === 3. CSV einlesen und vorbereiten ===\n",
    "df = pd.read_csv(csv_path)\n",
    "df['timestamp'] = pd.to_datetime(df['timestamp'])\n",
    "df.set_index('timestamp', inplace=True)\n",
    "data = df['value'].values.astype(np.float32)\n",
    "\n",
    "# === 4. Sequenzen erstellen ===\n",
    "sequence_length = 288\n",
    "X_seq = []\n",
    "for i in range(len(data) - sequence_length):\n",
    "    seq = data[i:i+sequence_length].reshape(-1, 1)  # (288, 1)\n",
    "    X_seq.append(seq)\n",
    "X_seq = np.array(X_seq)  # (n, 288, 1)\n",
    "print(\"X_seq shape:\", X_seq.shape)\n",
    "\n",
    "# === 5. Vorhersage und MSE berechnen ===\n",
    "pred = model.predict(X_seq)\n",
    "mse = np.mean((X_seq - pred)**2, axis=(1, 2))\n",
    "print(\"Beispielhafte MSE:\", mse[:10])\n",
    "\n",
    "# === 6. Threshold & Anomalien ===\n",
    "threshold = np.percentile(mse, 95)\n",
    "y_pred = (mse > threshold).astype(int)\n",
    "print(f\"Threshold (95%): {threshold:.6f}\")\n",
    "print(f\"Anomalien erkannt: {np.sum(y_pred)} von {len(y_pred)}\")\n",
    "\n",
    "# === 7. Ground Truth aus JSON laden ===\n",
    "with open(json_path, 'r') as f:\n",
    "    gt = json.load(f)\n",
    "filename = os.path.basename(csv_path)\n",
    "windows = gt[\"artificialWithAnomaly/\" + filename]\n",
    "\n",
    "# === 8. Ground-Truth-Label erzeugen ===\n",
    "timestamps = df.index[sequence_length:]\n",
    "y_true = []\n",
    "for ts in timestamps:\n",
    "    is_anomaly = 0\n",
    "    for start, end in windows:\n",
    "        if pd.to_datetime(start) <= ts <= pd.to_datetime(end):\n",
    "            is_anomaly = 1\n",
    "            break\n",
    "    y_true.append(is_anomaly)\n",
    "y_true = np.array(y_true)\n",
    "\n",
    "# === 9. Evaluation ===\n",
    "print(\"\\n📊 CLASSIFICATION REPORT:\")\n",
    "print(classification_report(y_true, y_pred, target_names=[\"Normal\", \"Anomalie\"]))\n",
    "print(\"CONFUSION MATRIX:\")\n",
    "print(confusion_matrix(y_true, y_pred))\n",
    "\n",
    "# === 10. Plot MSE mit Threshold ===\n",
    "plt.figure(figsize=(14, 4))\n",
    "plt.plot(timestamps, mse, label=\"MSE\")\n",
    "plt.axhline(threshold, color='red', linestyle='--', label=\"Threshold (95%)\")\n",
    "plt.title(\"Rekonstruktionsfehler (MSE) über Zeit\")\n",
    "plt.xlabel(\"Zeit\")\n",
    "plt.ylabel(\"MSE\")\n",
    "plt.legend()\n",
    "plt.tight_layout()\n",
    "plt.show()\n"
   ]
  }
 ],
 "metadata": {
  "kernelspec": {
   "display_name": "Python (tf_gpu)",
   "language": "python",
   "name": "tf_gpu"
  },
  "language_info": {
   "codemirror_mode": {
    "name": "ipython",
    "version": 3
   },
   "file_extension": ".py",
   "mimetype": "text/x-python",
   "name": "python",
   "nbconvert_exporter": "python",
   "pygments_lexer": "ipython3",
   "version": "3.10.16"
  }
 },
 "nbformat": 4,
 "nbformat_minor": 5
}
